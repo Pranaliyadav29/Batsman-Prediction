{
 "cells": [
  {
   "cell_type": "code",
   "execution_count": 1,
   "id": "75771cc5",
   "metadata": {},
   "outputs": [],
   "source": [
    "import pandas as pd"
   ]
  },
  {
   "cell_type": "code",
   "execution_count": 2,
   "id": "d67ca856",
   "metadata": {},
   "outputs": [
    {
     "data": {
      "text/html": [
       "<div>\n",
       "<style scoped>\n",
       "    .dataframe tbody tr th:only-of-type {\n",
       "        vertical-align: middle;\n",
       "    }\n",
       "\n",
       "    .dataframe tbody tr th {\n",
       "        vertical-align: top;\n",
       "    }\n",
       "\n",
       "    .dataframe thead th {\n",
       "        text-align: right;\n",
       "    }\n",
       "</style>\n",
       "<table border=\"1\" class=\"dataframe\">\n",
       "  <thead>\n",
       "    <tr style=\"text-align: right;\">\n",
       "      <th></th>\n",
       "      <th>Unnamed: 0</th>\n",
       "      <th>Bat1</th>\n",
       "      <th>Runs</th>\n",
       "      <th>BF</th>\n",
       "      <th>SR</th>\n",
       "      <th>4s</th>\n",
       "      <th>6s</th>\n",
       "      <th>Opposition</th>\n",
       "      <th>Ground</th>\n",
       "      <th>Start Date</th>\n",
       "      <th>Match_ID</th>\n",
       "      <th>Batsman</th>\n",
       "      <th>Player_ID</th>\n",
       "    </tr>\n",
       "  </thead>\n",
       "  <tbody>\n",
       "    <tr>\n",
       "      <th>0</th>\n",
       "      <td>1</td>\n",
       "      <td>DNB</td>\n",
       "      <td>-</td>\n",
       "      <td>-</td>\n",
       "      <td>-</td>\n",
       "      <td>-</td>\n",
       "      <td>-</td>\n",
       "      <td>v India</td>\n",
       "      <td>Nagpur</td>\n",
       "      <td>18 Dec 2009</td>\n",
       "      <td>ODI # 2933</td>\n",
       "      <td>Oshane Thomas</td>\n",
       "      <td>49619</td>\n",
       "    </tr>\n",
       "    <tr>\n",
       "      <th>1</th>\n",
       "      <td>2</td>\n",
       "      <td>DNB</td>\n",
       "      <td>-</td>\n",
       "      <td>-</td>\n",
       "      <td>-</td>\n",
       "      <td>-</td>\n",
       "      <td>-</td>\n",
       "      <td>v India</td>\n",
       "      <td>Kolkata</td>\n",
       "      <td>24 Dec 2009</td>\n",
       "      <td>ODI # 2935</td>\n",
       "      <td>Oshane Thomas</td>\n",
       "      <td>49619</td>\n",
       "    </tr>\n",
       "    <tr>\n",
       "      <th>2</th>\n",
       "      <td>3</td>\n",
       "      <td>DNB</td>\n",
       "      <td>-</td>\n",
       "      <td>-</td>\n",
       "      <td>-</td>\n",
       "      <td>-</td>\n",
       "      <td>-</td>\n",
       "      <td>v India</td>\n",
       "      <td>Delhi</td>\n",
       "      <td>27 Dec 2009</td>\n",
       "      <td>ODI # 2936</td>\n",
       "      <td>Oshane Thomas</td>\n",
       "      <td>49619</td>\n",
       "    </tr>\n",
       "    <tr>\n",
       "      <th>3</th>\n",
       "      <td>4</td>\n",
       "      <td>DNB</td>\n",
       "      <td>-</td>\n",
       "      <td>-</td>\n",
       "      <td>-</td>\n",
       "      <td>-</td>\n",
       "      <td>-</td>\n",
       "      <td>v Bangladesh</td>\n",
       "      <td>Dhaka</td>\n",
       "      <td>4 Jan 2010</td>\n",
       "      <td>ODI # 2937</td>\n",
       "      <td>Oshane Thomas</td>\n",
       "      <td>49619</td>\n",
       "    </tr>\n",
       "    <tr>\n",
       "      <th>4</th>\n",
       "      <td>5</td>\n",
       "      <td>DNB</td>\n",
       "      <td>-</td>\n",
       "      <td>-</td>\n",
       "      <td>-</td>\n",
       "      <td>-</td>\n",
       "      <td>-</td>\n",
       "      <td>v India</td>\n",
       "      <td>Dhaka</td>\n",
       "      <td>5 Jan 2010</td>\n",
       "      <td>ODI # 2938</td>\n",
       "      <td>Oshane Thomas</td>\n",
       "      <td>49619</td>\n",
       "    </tr>\n",
       "  </tbody>\n",
       "</table>\n",
       "</div>"
      ],
      "text/plain": [
       "   Unnamed: 0 Bat1 Runs BF SR 4s 6s    Opposition   Ground   Start Date  \\\n",
       "0           1  DNB    -  -  -  -  -       v India   Nagpur  18 Dec 2009   \n",
       "1           2  DNB    -  -  -  -  -       v India  Kolkata  24 Dec 2009   \n",
       "2           3  DNB    -  -  -  -  -       v India    Delhi  27 Dec 2009   \n",
       "3           4  DNB    -  -  -  -  -  v Bangladesh    Dhaka   4 Jan 2010   \n",
       "4           5  DNB    -  -  -  -  -       v India    Dhaka   5 Jan 2010   \n",
       "\n",
       "     Match_ID        Batsman  Player_ID  \n",
       "0  ODI # 2933  Oshane Thomas      49619  \n",
       "1  ODI # 2935  Oshane Thomas      49619  \n",
       "2  ODI # 2936  Oshane Thomas      49619  \n",
       "3  ODI # 2937  Oshane Thomas      49619  \n",
       "4  ODI # 2938  Oshane Thomas      49619  "
      ]
     },
     "execution_count": 2,
     "metadata": {},
     "output_type": "execute_result"
    }
   ],
   "source": [
    "df = pd.read_csv(\"Batsman_Data.csv\")\n",
    "df.head()"
   ]
  },
  {
   "cell_type": "code",
   "execution_count": 3,
   "id": "6f9cc8af",
   "metadata": {},
   "outputs": [
    {
     "data": {
      "text/html": [
       "<div>\n",
       "<style scoped>\n",
       "    .dataframe tbody tr th:only-of-type {\n",
       "        vertical-align: middle;\n",
       "    }\n",
       "\n",
       "    .dataframe tbody tr th {\n",
       "        vertical-align: top;\n",
       "    }\n",
       "\n",
       "    .dataframe thead th {\n",
       "        text-align: right;\n",
       "    }\n",
       "</style>\n",
       "<table border=\"1\" class=\"dataframe\">\n",
       "  <thead>\n",
       "    <tr style=\"text-align: right;\">\n",
       "      <th></th>\n",
       "      <th>Bat1</th>\n",
       "      <th>Runs</th>\n",
       "      <th>BF</th>\n",
       "      <th>SR</th>\n",
       "      <th>4s</th>\n",
       "      <th>6s</th>\n",
       "      <th>Opposition</th>\n",
       "      <th>Ground</th>\n",
       "      <th>Start Date</th>\n",
       "      <th>Match_ID</th>\n",
       "      <th>Batsman</th>\n",
       "    </tr>\n",
       "  </thead>\n",
       "  <tbody>\n",
       "    <tr>\n",
       "      <th>0</th>\n",
       "      <td>DNB</td>\n",
       "      <td>-</td>\n",
       "      <td>-</td>\n",
       "      <td>-</td>\n",
       "      <td>-</td>\n",
       "      <td>-</td>\n",
       "      <td>v India</td>\n",
       "      <td>Nagpur</td>\n",
       "      <td>18 Dec 2009</td>\n",
       "      <td>ODI # 2933</td>\n",
       "      <td>Oshane Thomas</td>\n",
       "    </tr>\n",
       "    <tr>\n",
       "      <th>1</th>\n",
       "      <td>DNB</td>\n",
       "      <td>-</td>\n",
       "      <td>-</td>\n",
       "      <td>-</td>\n",
       "      <td>-</td>\n",
       "      <td>-</td>\n",
       "      <td>v India</td>\n",
       "      <td>Kolkata</td>\n",
       "      <td>24 Dec 2009</td>\n",
       "      <td>ODI # 2935</td>\n",
       "      <td>Oshane Thomas</td>\n",
       "    </tr>\n",
       "    <tr>\n",
       "      <th>2</th>\n",
       "      <td>DNB</td>\n",
       "      <td>-</td>\n",
       "      <td>-</td>\n",
       "      <td>-</td>\n",
       "      <td>-</td>\n",
       "      <td>-</td>\n",
       "      <td>v India</td>\n",
       "      <td>Delhi</td>\n",
       "      <td>27 Dec 2009</td>\n",
       "      <td>ODI # 2936</td>\n",
       "      <td>Oshane Thomas</td>\n",
       "    </tr>\n",
       "    <tr>\n",
       "      <th>3</th>\n",
       "      <td>DNB</td>\n",
       "      <td>-</td>\n",
       "      <td>-</td>\n",
       "      <td>-</td>\n",
       "      <td>-</td>\n",
       "      <td>-</td>\n",
       "      <td>v Bangladesh</td>\n",
       "      <td>Dhaka</td>\n",
       "      <td>4 Jan 2010</td>\n",
       "      <td>ODI # 2937</td>\n",
       "      <td>Oshane Thomas</td>\n",
       "    </tr>\n",
       "    <tr>\n",
       "      <th>4</th>\n",
       "      <td>DNB</td>\n",
       "      <td>-</td>\n",
       "      <td>-</td>\n",
       "      <td>-</td>\n",
       "      <td>-</td>\n",
       "      <td>-</td>\n",
       "      <td>v India</td>\n",
       "      <td>Dhaka</td>\n",
       "      <td>5 Jan 2010</td>\n",
       "      <td>ODI # 2938</td>\n",
       "      <td>Oshane Thomas</td>\n",
       "    </tr>\n",
       "  </tbody>\n",
       "</table>\n",
       "</div>"
      ],
      "text/plain": [
       "  Bat1 Runs BF SR 4s 6s    Opposition   Ground   Start Date    Match_ID  \\\n",
       "0  DNB    -  -  -  -  -       v India   Nagpur  18 Dec 2009  ODI # 2933   \n",
       "1  DNB    -  -  -  -  -       v India  Kolkata  24 Dec 2009  ODI # 2935   \n",
       "2  DNB    -  -  -  -  -       v India    Delhi  27 Dec 2009  ODI # 2936   \n",
       "3  DNB    -  -  -  -  -  v Bangladesh    Dhaka   4 Jan 2010  ODI # 2937   \n",
       "4  DNB    -  -  -  -  -       v India    Dhaka   5 Jan 2010  ODI # 2938   \n",
       "\n",
       "         Batsman  \n",
       "0  Oshane Thomas  \n",
       "1  Oshane Thomas  \n",
       "2  Oshane Thomas  \n",
       "3  Oshane Thomas  \n",
       "4  Oshane Thomas  "
      ]
     },
     "execution_count": 3,
     "metadata": {},
     "output_type": "execute_result"
    }
   ],
   "source": [
    "df.drop([\"Unnamed: 0\", \"Player_ID\"], axis = 1, inplace = True)\n",
    "df.head()"
   ]
  },
  {
   "cell_type": "code",
   "execution_count": 4,
   "id": "9d1ac2df",
   "metadata": {},
   "outputs": [
    {
     "data": {
      "text/html": [
       "<div>\n",
       "<style scoped>\n",
       "    .dataframe tbody tr th:only-of-type {\n",
       "        vertical-align: middle;\n",
       "    }\n",
       "\n",
       "    .dataframe tbody tr th {\n",
       "        vertical-align: top;\n",
       "    }\n",
       "\n",
       "    .dataframe thead th {\n",
       "        text-align: right;\n",
       "    }\n",
       "</style>\n",
       "<table border=\"1\" class=\"dataframe\">\n",
       "  <thead>\n",
       "    <tr style=\"text-align: right;\">\n",
       "      <th></th>\n",
       "      <th>Bat1</th>\n",
       "      <th>Runs</th>\n",
       "      <th>BF</th>\n",
       "      <th>SR</th>\n",
       "      <th>4s</th>\n",
       "      <th>6s</th>\n",
       "      <th>Opposition</th>\n",
       "      <th>Ground</th>\n",
       "      <th>Start Date</th>\n",
       "      <th>Match_ID</th>\n",
       "      <th>Batsman</th>\n",
       "    </tr>\n",
       "  </thead>\n",
       "  <tbody>\n",
       "    <tr>\n",
       "      <th>0</th>\n",
       "      <td>DNB</td>\n",
       "      <td>0</td>\n",
       "      <td>0</td>\n",
       "      <td>0</td>\n",
       "      <td>0</td>\n",
       "      <td>0</td>\n",
       "      <td>v India</td>\n",
       "      <td>Nagpur</td>\n",
       "      <td>18 Dec 2009</td>\n",
       "      <td>ODI # 2933</td>\n",
       "      <td>Oshane Thomas</td>\n",
       "    </tr>\n",
       "    <tr>\n",
       "      <th>1</th>\n",
       "      <td>DNB</td>\n",
       "      <td>0</td>\n",
       "      <td>0</td>\n",
       "      <td>0</td>\n",
       "      <td>0</td>\n",
       "      <td>0</td>\n",
       "      <td>v India</td>\n",
       "      <td>Kolkata</td>\n",
       "      <td>24 Dec 2009</td>\n",
       "      <td>ODI # 2935</td>\n",
       "      <td>Oshane Thomas</td>\n",
       "    </tr>\n",
       "    <tr>\n",
       "      <th>2</th>\n",
       "      <td>DNB</td>\n",
       "      <td>0</td>\n",
       "      <td>0</td>\n",
       "      <td>0</td>\n",
       "      <td>0</td>\n",
       "      <td>0</td>\n",
       "      <td>v India</td>\n",
       "      <td>Delhi</td>\n",
       "      <td>27 Dec 2009</td>\n",
       "      <td>ODI # 2936</td>\n",
       "      <td>Oshane Thomas</td>\n",
       "    </tr>\n",
       "    <tr>\n",
       "      <th>3</th>\n",
       "      <td>DNB</td>\n",
       "      <td>0</td>\n",
       "      <td>0</td>\n",
       "      <td>0</td>\n",
       "      <td>0</td>\n",
       "      <td>0</td>\n",
       "      <td>v Bangladesh</td>\n",
       "      <td>Dhaka</td>\n",
       "      <td>4 Jan 2010</td>\n",
       "      <td>ODI # 2937</td>\n",
       "      <td>Oshane Thomas</td>\n",
       "    </tr>\n",
       "    <tr>\n",
       "      <th>4</th>\n",
       "      <td>DNB</td>\n",
       "      <td>0</td>\n",
       "      <td>0</td>\n",
       "      <td>0</td>\n",
       "      <td>0</td>\n",
       "      <td>0</td>\n",
       "      <td>v India</td>\n",
       "      <td>Dhaka</td>\n",
       "      <td>5 Jan 2010</td>\n",
       "      <td>ODI # 2938</td>\n",
       "      <td>Oshane Thomas</td>\n",
       "    </tr>\n",
       "  </tbody>\n",
       "</table>\n",
       "</div>"
      ],
      "text/plain": [
       "  Bat1 Runs BF SR 4s 6s    Opposition   Ground   Start Date    Match_ID  \\\n",
       "0  DNB    0  0  0  0  0       v India   Nagpur  18 Dec 2009  ODI # 2933   \n",
       "1  DNB    0  0  0  0  0       v India  Kolkata  24 Dec 2009  ODI # 2935   \n",
       "2  DNB    0  0  0  0  0       v India    Delhi  27 Dec 2009  ODI # 2936   \n",
       "3  DNB    0  0  0  0  0  v Bangladesh    Dhaka   4 Jan 2010  ODI # 2937   \n",
       "4  DNB    0  0  0  0  0       v India    Dhaka   5 Jan 2010  ODI # 2938   \n",
       "\n",
       "         Batsman  \n",
       "0  Oshane Thomas  \n",
       "1  Oshane Thomas  \n",
       "2  Oshane Thomas  \n",
       "3  Oshane Thomas  \n",
       "4  Oshane Thomas  "
      ]
     },
     "execution_count": 4,
     "metadata": {},
     "output_type": "execute_result"
    }
   ],
   "source": [
    "df = df.replace(\"-\", 0)\n",
    "df.head()"
   ]
  },
  {
   "cell_type": "markdown",
   "id": "83896862",
   "metadata": {},
   "source": [
    "# Total number of Players"
   ]
  },
  {
   "cell_type": "code",
   "execution_count": 5,
   "id": "dbffdf05",
   "metadata": {},
   "outputs": [],
   "source": [
    "df[\"Batsman\"] = df[\"Batsman\"].apply(lambda x: x.lower())"
   ]
  },
  {
   "cell_type": "code",
   "execution_count": 6,
   "id": "715954e3",
   "metadata": {},
   "outputs": [],
   "source": [
    "no_of_players = df.groupby(\"Batsman\")[\"Batsman\"].agg(\"count\")"
   ]
  },
  {
   "cell_type": "code",
   "execution_count": 7,
   "id": "fe83d0bf",
   "metadata": {},
   "outputs": [
    {
     "data": {
      "text/plain": [
       "(149,)"
      ]
     },
     "execution_count": 7,
     "metadata": {},
     "output_type": "execute_result"
    }
   ],
   "source": [
    "no_of_players.shape"
   ]
  },
  {
   "cell_type": "raw",
   "id": "6bdc8b29",
   "metadata": {},
   "source": [
    "# Total number of players = 149"
   ]
  },
  {
   "cell_type": "markdown",
   "id": "e676b441",
   "metadata": {},
   "source": [
    "# Total number of Grounds"
   ]
  },
  {
   "cell_type": "code",
   "execution_count": 8,
   "id": "953cd10b",
   "metadata": {},
   "outputs": [],
   "source": [
    "df[\"Ground\"] = df[\"Ground\"].apply(lambda x: x.lower())"
   ]
  },
  {
   "cell_type": "code",
   "execution_count": 9,
   "id": "b024956e",
   "metadata": {},
   "outputs": [],
   "source": [
    "no_of_ground = df.groupby(\"Ground\")[\"Ground\"].agg(\"count\")"
   ]
  },
  {
   "cell_type": "code",
   "execution_count": 10,
   "id": "5009104f",
   "metadata": {},
   "outputs": [
    {
     "data": {
      "text/plain": [
       "Ground\n",
       "aberdeen           7\n",
       "abu dhabi        319\n",
       "adelaide         157\n",
       "ahmedabad         35\n",
       "amstelveen        24\n",
       "                ... \n",
       "vadodara          13\n",
       "vijayawada         1\n",
       "visakhapatnam     67\n",
       "wellington       202\n",
       "whangarei         19\n",
       "Name: Ground, Length: 134, dtype: int64"
      ]
     },
     "execution_count": 10,
     "metadata": {},
     "output_type": "execute_result"
    }
   ],
   "source": [
    "df.groupby(\"Ground\")[\"Ground\"].agg(\"count\")"
   ]
  },
  {
   "cell_type": "code",
   "execution_count": 11,
   "id": "c3746605",
   "metadata": {},
   "outputs": [
    {
     "data": {
      "text/plain": [
       "(134,)"
      ]
     },
     "execution_count": 11,
     "metadata": {},
     "output_type": "execute_result"
    }
   ],
   "source": [
    "no_of_ground.shape"
   ]
  },
  {
   "cell_type": "raw",
   "id": "3fc863aa",
   "metadata": {},
   "source": [
    "# Total number of grounds = 134"
   ]
  },
  {
   "cell_type": "markdown",
   "id": "0b3f476f",
   "metadata": {},
   "source": [
    "# Total Runs per Player"
   ]
  },
  {
   "cell_type": "code",
   "execution_count": 12,
   "id": "4237c2c6",
   "metadata": {},
   "outputs": [],
   "source": [
    "df['Runs'] = df[\"Runs\"].apply(pd.to_numeric)"
   ]
  },
  {
   "cell_type": "code",
   "execution_count": 13,
   "id": "bac12fbf",
   "metadata": {},
   "outputs": [
    {
     "data": {
      "text/plain": [
       "Batsman\n",
       "aaron finch          4052\n",
       "abid ali              112\n",
       "abu jayed               0\n",
       "adam zampa             99\n",
       "adil rashid           541\n",
       "                    ...  \n",
       "trent boult           144\n",
       "usman khawaja        1238\n",
       "vijay shankar         165\n",
       "virat kohli         10843\n",
       "yuzvendra chahal       34\n",
       "Name: Runs, Length: 149, dtype: int64"
      ]
     },
     "execution_count": 13,
     "metadata": {},
     "output_type": "execute_result"
    }
   ],
   "source": [
    "players = df.groupby('Batsman')\n",
    "total_runs = players['Runs'].sum()\n",
    "total_runs"
   ]
  },
  {
   "cell_type": "markdown",
   "id": "fc6a1cb3",
   "metadata": {},
   "source": [
    "# Number of matches played per Player"
   ]
  },
  {
   "cell_type": "code",
   "execution_count": 14,
   "id": "ffc31e3b",
   "metadata": {},
   "outputs": [
    {
     "data": {
      "text/plain": [
       "Batsman\n",
       "aaron finch         109\n",
       "abid ali              3\n",
       "abu jayed             2\n",
       "adam zampa           44\n",
       "adil rashid          88\n",
       "                   ... \n",
       "trent boult          79\n",
       "usman khawaja        31\n",
       "vijay shankar         9\n",
       "virat kohli         227\n",
       "yuzvendra chahal     41\n",
       "Name: Batsman, Length: 149, dtype: int64"
      ]
     },
     "execution_count": 14,
     "metadata": {},
     "output_type": "execute_result"
    }
   ],
   "source": [
    "no_of_players = df.groupby(\"Batsman\")[\"Batsman\"].agg(\"count\")\n",
    "no_of_players"
   ]
  },
  {
   "cell_type": "markdown",
   "id": "f12edeb4",
   "metadata": {},
   "source": [
    "# Number of 4s per Player"
   ]
  },
  {
   "cell_type": "code",
   "execution_count": 15,
   "id": "ad00c8fa",
   "metadata": {},
   "outputs": [
    {
     "data": {
      "text/plain": [
       "Batsman\n",
       "aaron finch          406\n",
       "abid ali               9\n",
       "abu jayed              0\n",
       "adam zampa             6\n",
       "adil rashid           60\n",
       "                    ... \n",
       "trent boult           13\n",
       "usman khawaja        120\n",
       "vijay shankar         14\n",
       "virat kohli         1019\n",
       "yuzvendra chahal       5\n",
       "Name: 4s, Length: 149, dtype: int64"
      ]
     },
     "execution_count": 15,
     "metadata": {},
     "output_type": "execute_result"
    }
   ],
   "source": [
    "df['4s'] = df[\"4s\"].apply(pd.to_numeric)\n",
    "players = df.groupby('Batsman')\n",
    "total_runs = players['4s'].sum()\n",
    "total_runs"
   ]
  },
  {
   "cell_type": "markdown",
   "id": "6184499e",
   "metadata": {},
   "source": [
    "# Number of 6s per Player"
   ]
  },
  {
   "cell_type": "code",
   "execution_count": 16,
   "id": "6efc9169",
   "metadata": {},
   "outputs": [
    {
     "data": {
      "text/plain": [
       "Batsman\n",
       "aaron finch          94\n",
       "abid ali              0\n",
       "abu jayed             0\n",
       "adam zampa            1\n",
       "adil rashid           6\n",
       "                   ... \n",
       "trent boult           6\n",
       "usman khawaja        12\n",
       "vijay shankar         4\n",
       "virat kohli         116\n",
       "yuzvendra chahal      0\n",
       "Name: 6s, Length: 149, dtype: int64"
      ]
     },
     "execution_count": 16,
     "metadata": {},
     "output_type": "execute_result"
    }
   ],
   "source": [
    "df['6s'] = df[\"6s\"].apply(pd.to_numeric)\n",
    "players = df.groupby('Batsman')\n",
    "total_runs = players['6s'].sum()\n",
    "total_runs"
   ]
  },
  {
   "cell_type": "markdown",
   "id": "6e2ccf15",
   "metadata": {},
   "source": [
    "# Not Outs per Player"
   ]
  },
  {
   "cell_type": "code",
   "execution_count": 17,
   "id": "e0eed43a",
   "metadata": {},
   "outputs": [
    {
     "data": {
      "text/plain": [
       "array(['DNB', '0*', '1*', '0', '1', '2*', '4*', '3', '7*', '8', '7', '3*',\n",
       "       '10', 'TDNB', '20*', '26', '23*', '11*', '5*', '2', '5', '12',\n",
       "       '20', '49', '92*', '25', '22', '11', '40*', '29', '53', '37', '34',\n",
       "       '41', '42*', '59*', '9', '43', '18', '4', '6*', '46', '19', '16',\n",
       "       '64*', '24', '27*', '13', '12*', '24*', '9*', '14*', '8*', '26*',\n",
       "       '15*', '6', '21', '34*', '44', '10*', '19*', '31*', '27', '40',\n",
       "       '25*', '13*', '14', '148', '47', '33', '35', '176*', '76', '31',\n",
       "       '64', '66', '17', '101', '15', '71', '48*', '81', '51', '72', '23',\n",
       "       '35*', '49*', '32', '123*', '95', '146*', '108*', '170', '109',\n",
       "       '30', '87', '74', '127', '36', '38', '52', '125', '106', '94',\n",
       "       '104*', '28*', '45*', '39', '79', '73', '67', '86', '60', '28',\n",
       "       '100*', '72*', '55', '70', '54', '59', '50', '51*', '124', '102',\n",
       "       '61', '33*', '58*', '42', '152', '85', '62', '84', '103', '140',\n",
       "       '119', '153*', '112*', '152*', '60*', '132*', '99', '82', '132',\n",
       "       '95*', '123', '58', '45', '133*', '85*', '92', '110*', '113',\n",
       "       '122', '46*', '135', '80', '57', '88', '63', '37*', '63*', '215',\n",
       "       '162', '77', '16*', '22*', '21*', '17*', '56', '68', '41*', '99*',\n",
       "       '54*', '32*', '52*', '48', '30*', '78', '36*', '69*', '65', '80*',\n",
       "       '47*', '39*', '44*', '18*', '116', '69', '89', '102*', '62*',\n",
       "       '139*', '90', '81*', '87*', '75', '55*', '77*', '71*', '74*',\n",
       "       '56*', '93', '70*', '67*', '111*', '79*', '97*', '78*', 'absent',\n",
       "       'sub', '29*', '38*', '129', '66*', '150*', '97', '115*', '53*',\n",
       "       '130*', '138*', '118*', '117*', '75*', '139', '50*', '110', '119*',\n",
       "       '116*', '112', '150', '98', '100', '122*', '61*', '133', '159',\n",
       "       '154', '128', '107', '178', '168*', '83', '121', '126', '96',\n",
       "       '73*', '111', '105', '185', '91*', '120', '89*', '101*', '130',\n",
       "       '57*', '43*', '115', '136*', '140*', '113*', '151', '114', '82*',\n",
       "       '210*', '138', '118', '143', '86*', '108', '125*', '96*', '117',\n",
       "       '106*', '128*', '131*', '107*', '105*', '88*', '181*', '137',\n",
       "       '83*', '124*', '91', '103*', '189*', '237*', '93*', '180*', '104',\n",
       "       '145*', '65*', '183*', '109*', '84*', '68*', '134', '90*', '141*',\n",
       "       '209', '264', '171*', '147', '208*', '137*', '183', '136', '154*',\n",
       "       '76*', '131', '160*', '129*', '157*', '180', '171', '127*', '144',\n",
       "       '134*', '163', '173', '156', '179', '149', '164'], dtype=object)"
      ]
     },
     "execution_count": 17,
     "metadata": {},
     "output_type": "execute_result"
    }
   ],
   "source": [
    "df[\"Bat1\"].unique()"
   ]
  },
  {
   "cell_type": "code",
   "execution_count": 18,
   "id": "942dc4dc",
   "metadata": {},
   "outputs": [],
   "source": [
    "a = ['DNB','TDNB','absent','sub']"
   ]
  },
  {
   "cell_type": "code",
   "execution_count": 19,
   "id": "216d05c2",
   "metadata": {},
   "outputs": [],
   "source": [
    "l = []\n",
    "for i in df['Bat1']:\n",
    "    if i in a:\n",
    "        l.append(i)\n",
    "    else:\n",
    "        try:\n",
    "            int(i)\n",
    "            l.append(\"Out\")\n",
    "        except:\n",
    "            l.append(\"Not Out\")"
   ]
  },
  {
   "cell_type": "code",
   "execution_count": 20,
   "id": "08291fa6",
   "metadata": {},
   "outputs": [],
   "source": [
    "df['Bat'] = l"
   ]
  },
  {
   "cell_type": "code",
   "execution_count": 21,
   "id": "875149cf",
   "metadata": {},
   "outputs": [
    {
     "data": {
      "text/html": [
       "<div>\n",
       "<style scoped>\n",
       "    .dataframe tbody tr th:only-of-type {\n",
       "        vertical-align: middle;\n",
       "    }\n",
       "\n",
       "    .dataframe tbody tr th {\n",
       "        vertical-align: top;\n",
       "    }\n",
       "\n",
       "    .dataframe thead th {\n",
       "        text-align: right;\n",
       "    }\n",
       "</style>\n",
       "<table border=\"1\" class=\"dataframe\">\n",
       "  <thead>\n",
       "    <tr style=\"text-align: right;\">\n",
       "      <th></th>\n",
       "      <th>Bat1</th>\n",
       "      <th>Runs</th>\n",
       "      <th>BF</th>\n",
       "      <th>SR</th>\n",
       "      <th>4s</th>\n",
       "      <th>6s</th>\n",
       "      <th>Opposition</th>\n",
       "      <th>Ground</th>\n",
       "      <th>Start Date</th>\n",
       "      <th>Match_ID</th>\n",
       "      <th>Batsman</th>\n",
       "      <th>Bat</th>\n",
       "    </tr>\n",
       "  </thead>\n",
       "  <tbody>\n",
       "    <tr>\n",
       "      <th>0</th>\n",
       "      <td>DNB</td>\n",
       "      <td>0</td>\n",
       "      <td>0</td>\n",
       "      <td>0</td>\n",
       "      <td>0</td>\n",
       "      <td>0</td>\n",
       "      <td>v India</td>\n",
       "      <td>nagpur</td>\n",
       "      <td>18 Dec 2009</td>\n",
       "      <td>ODI # 2933</td>\n",
       "      <td>oshane thomas</td>\n",
       "      <td>DNB</td>\n",
       "    </tr>\n",
       "    <tr>\n",
       "      <th>1</th>\n",
       "      <td>DNB</td>\n",
       "      <td>0</td>\n",
       "      <td>0</td>\n",
       "      <td>0</td>\n",
       "      <td>0</td>\n",
       "      <td>0</td>\n",
       "      <td>v India</td>\n",
       "      <td>kolkata</td>\n",
       "      <td>24 Dec 2009</td>\n",
       "      <td>ODI # 2935</td>\n",
       "      <td>oshane thomas</td>\n",
       "      <td>DNB</td>\n",
       "    </tr>\n",
       "    <tr>\n",
       "      <th>2</th>\n",
       "      <td>DNB</td>\n",
       "      <td>0</td>\n",
       "      <td>0</td>\n",
       "      <td>0</td>\n",
       "      <td>0</td>\n",
       "      <td>0</td>\n",
       "      <td>v India</td>\n",
       "      <td>delhi</td>\n",
       "      <td>27 Dec 2009</td>\n",
       "      <td>ODI # 2936</td>\n",
       "      <td>oshane thomas</td>\n",
       "      <td>DNB</td>\n",
       "    </tr>\n",
       "    <tr>\n",
       "      <th>3</th>\n",
       "      <td>DNB</td>\n",
       "      <td>0</td>\n",
       "      <td>0</td>\n",
       "      <td>0</td>\n",
       "      <td>0</td>\n",
       "      <td>0</td>\n",
       "      <td>v Bangladesh</td>\n",
       "      <td>dhaka</td>\n",
       "      <td>4 Jan 2010</td>\n",
       "      <td>ODI # 2937</td>\n",
       "      <td>oshane thomas</td>\n",
       "      <td>DNB</td>\n",
       "    </tr>\n",
       "    <tr>\n",
       "      <th>4</th>\n",
       "      <td>DNB</td>\n",
       "      <td>0</td>\n",
       "      <td>0</td>\n",
       "      <td>0</td>\n",
       "      <td>0</td>\n",
       "      <td>0</td>\n",
       "      <td>v India</td>\n",
       "      <td>dhaka</td>\n",
       "      <td>5 Jan 2010</td>\n",
       "      <td>ODI # 2938</td>\n",
       "      <td>oshane thomas</td>\n",
       "      <td>DNB</td>\n",
       "    </tr>\n",
       "  </tbody>\n",
       "</table>\n",
       "</div>"
      ],
      "text/plain": [
       "  Bat1  Runs BF SR  4s  6s    Opposition   Ground   Start Date    Match_ID  \\\n",
       "0  DNB     0  0  0   0   0       v India   nagpur  18 Dec 2009  ODI # 2933   \n",
       "1  DNB     0  0  0   0   0       v India  kolkata  24 Dec 2009  ODI # 2935   \n",
       "2  DNB     0  0  0   0   0       v India    delhi  27 Dec 2009  ODI # 2936   \n",
       "3  DNB     0  0  0   0   0  v Bangladesh    dhaka   4 Jan 2010  ODI # 2937   \n",
       "4  DNB     0  0  0   0   0       v India    dhaka   5 Jan 2010  ODI # 2938   \n",
       "\n",
       "         Batsman  Bat  \n",
       "0  oshane thomas  DNB  \n",
       "1  oshane thomas  DNB  \n",
       "2  oshane thomas  DNB  \n",
       "3  oshane thomas  DNB  \n",
       "4  oshane thomas  DNB  "
      ]
     },
     "execution_count": 21,
     "metadata": {},
     "output_type": "execute_result"
    }
   ],
   "source": [
    "df.head()"
   ]
  },
  {
   "cell_type": "code",
   "execution_count": 22,
   "id": "c9df7844",
   "metadata": {},
   "outputs": [
    {
     "data": {
      "text/plain": [
       "array(['DNB', 'Not Out', 'Out', 'TDNB', 'absent', 'sub'], dtype=object)"
      ]
     },
     "execution_count": 22,
     "metadata": {},
     "output_type": "execute_result"
    }
   ],
   "source": [
    "df['Bat'].unique()"
   ]
  },
  {
   "cell_type": "code",
   "execution_count": 23,
   "id": "c573d5f0",
   "metadata": {},
   "outputs": [],
   "source": [
    "l2 = []\n",
    "for i in df['Opposition']:\n",
    "    a = i.split(' ',maxsplit=1)\n",
    "    l2.append(a[-1])"
   ]
  },
  {
   "cell_type": "code",
   "execution_count": 24,
   "id": "0b8e7b7b",
   "metadata": {},
   "outputs": [
    {
     "data": {
      "text/html": [
       "<div>\n",
       "<style scoped>\n",
       "    .dataframe tbody tr th:only-of-type {\n",
       "        vertical-align: middle;\n",
       "    }\n",
       "\n",
       "    .dataframe tbody tr th {\n",
       "        vertical-align: top;\n",
       "    }\n",
       "\n",
       "    .dataframe thead th {\n",
       "        text-align: right;\n",
       "    }\n",
       "</style>\n",
       "<table border=\"1\" class=\"dataframe\">\n",
       "  <thead>\n",
       "    <tr style=\"text-align: right;\">\n",
       "      <th></th>\n",
       "      <th>Bat1</th>\n",
       "      <th>Runs</th>\n",
       "      <th>BF</th>\n",
       "      <th>SR</th>\n",
       "      <th>4s</th>\n",
       "      <th>6s</th>\n",
       "      <th>Opposition</th>\n",
       "      <th>Ground</th>\n",
       "      <th>Start Date</th>\n",
       "      <th>Match_ID</th>\n",
       "      <th>Batsman</th>\n",
       "      <th>Bat</th>\n",
       "    </tr>\n",
       "  </thead>\n",
       "  <tbody>\n",
       "    <tr>\n",
       "      <th>0</th>\n",
       "      <td>DNB</td>\n",
       "      <td>0</td>\n",
       "      <td>0</td>\n",
       "      <td>0</td>\n",
       "      <td>0</td>\n",
       "      <td>0</td>\n",
       "      <td>India</td>\n",
       "      <td>nagpur</td>\n",
       "      <td>18 Dec 2009</td>\n",
       "      <td>ODI # 2933</td>\n",
       "      <td>oshane thomas</td>\n",
       "      <td>DNB</td>\n",
       "    </tr>\n",
       "    <tr>\n",
       "      <th>1</th>\n",
       "      <td>DNB</td>\n",
       "      <td>0</td>\n",
       "      <td>0</td>\n",
       "      <td>0</td>\n",
       "      <td>0</td>\n",
       "      <td>0</td>\n",
       "      <td>India</td>\n",
       "      <td>kolkata</td>\n",
       "      <td>24 Dec 2009</td>\n",
       "      <td>ODI # 2935</td>\n",
       "      <td>oshane thomas</td>\n",
       "      <td>DNB</td>\n",
       "    </tr>\n",
       "    <tr>\n",
       "      <th>2</th>\n",
       "      <td>DNB</td>\n",
       "      <td>0</td>\n",
       "      <td>0</td>\n",
       "      <td>0</td>\n",
       "      <td>0</td>\n",
       "      <td>0</td>\n",
       "      <td>India</td>\n",
       "      <td>delhi</td>\n",
       "      <td>27 Dec 2009</td>\n",
       "      <td>ODI # 2936</td>\n",
       "      <td>oshane thomas</td>\n",
       "      <td>DNB</td>\n",
       "    </tr>\n",
       "    <tr>\n",
       "      <th>3</th>\n",
       "      <td>DNB</td>\n",
       "      <td>0</td>\n",
       "      <td>0</td>\n",
       "      <td>0</td>\n",
       "      <td>0</td>\n",
       "      <td>0</td>\n",
       "      <td>Bangladesh</td>\n",
       "      <td>dhaka</td>\n",
       "      <td>4 Jan 2010</td>\n",
       "      <td>ODI # 2937</td>\n",
       "      <td>oshane thomas</td>\n",
       "      <td>DNB</td>\n",
       "    </tr>\n",
       "    <tr>\n",
       "      <th>4</th>\n",
       "      <td>DNB</td>\n",
       "      <td>0</td>\n",
       "      <td>0</td>\n",
       "      <td>0</td>\n",
       "      <td>0</td>\n",
       "      <td>0</td>\n",
       "      <td>India</td>\n",
       "      <td>dhaka</td>\n",
       "      <td>5 Jan 2010</td>\n",
       "      <td>ODI # 2938</td>\n",
       "      <td>oshane thomas</td>\n",
       "      <td>DNB</td>\n",
       "    </tr>\n",
       "  </tbody>\n",
       "</table>\n",
       "</div>"
      ],
      "text/plain": [
       "  Bat1  Runs BF SR  4s  6s  Opposition   Ground   Start Date    Match_ID  \\\n",
       "0  DNB     0  0  0   0   0       India   nagpur  18 Dec 2009  ODI # 2933   \n",
       "1  DNB     0  0  0   0   0       India  kolkata  24 Dec 2009  ODI # 2935   \n",
       "2  DNB     0  0  0   0   0       India    delhi  27 Dec 2009  ODI # 2936   \n",
       "3  DNB     0  0  0   0   0  Bangladesh    dhaka   4 Jan 2010  ODI # 2937   \n",
       "4  DNB     0  0  0   0   0       India    dhaka   5 Jan 2010  ODI # 2938   \n",
       "\n",
       "         Batsman  Bat  \n",
       "0  oshane thomas  DNB  \n",
       "1  oshane thomas  DNB  \n",
       "2  oshane thomas  DNB  \n",
       "3  oshane thomas  DNB  \n",
       "4  oshane thomas  DNB  "
      ]
     },
     "execution_count": 24,
     "metadata": {},
     "output_type": "execute_result"
    }
   ],
   "source": [
    "df['Opposition'] = l2\n",
    "df.head()"
   ]
  },
  {
   "cell_type": "code",
   "execution_count": null,
   "id": "d3d13b97",
   "metadata": {},
   "outputs": [],
   "source": []
  }
 ],
 "metadata": {
  "kernelspec": {
   "display_name": "Python 3 (ipykernel)",
   "language": "python",
   "name": "python3"
  },
  "language_info": {
   "codemirror_mode": {
    "name": "ipython",
    "version": 3
   },
   "file_extension": ".py",
   "mimetype": "text/x-python",
   "name": "python",
   "nbconvert_exporter": "python",
   "pygments_lexer": "ipython3",
   "version": "3.9.13"
  }
 },
 "nbformat": 4,
 "nbformat_minor": 5
}
